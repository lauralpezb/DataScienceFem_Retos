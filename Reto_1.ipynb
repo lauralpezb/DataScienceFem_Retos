{
  "nbformat": 4,
  "nbformat_minor": 0,
  "metadata": {
    "colab": {
      "name": "Reto_1.ipynb",
      "provenance": [],
      "collapsed_sections": [],
      "authorship_tag": "ABX9TyM75QfnVlka07Ef5PBEGnsz",
      "include_colab_link": true
    },
    "kernelspec": {
      "name": "python3",
      "display_name": "Python 3"
    }
  },
  "cells": [
    {
      "cell_type": "markdown",
      "metadata": {
        "id": "view-in-github",
        "colab_type": "text"
      },
      "source": [
        "<a href=\"https://colab.research.google.com/github/lauralpezb/DataScienceFem_Retos/blob/main/Reto_1.ipynb\" target=\"_parent\"><img src=\"https://colab.research.google.com/assets/colab-badge.svg\" alt=\"Open In Colab\"/></a>"
      ]
    },
    {
      "cell_type": "markdown",
      "metadata": {
        "id": "fGqcCRi3wi8l"
      },
      "source": [
        "# **Retos Data Science Fem Enero**"
      ]
    },
    {
      "cell_type": "markdown",
      "metadata": {
        "id": "T4ka1QA6wo_r"
      },
      "source": [
        "### Python If-Else"
      ]
    },
    {
      "cell_type": "code",
      "metadata": {
        "id": "8jGlVDyswxOU"
      },
      "source": [
        "#!/bin/python3\r\n",
        "\r\n",
        "import math\r\n",
        "import os\r\n",
        "import random\r\n",
        "import re\r\n",
        "import sys\r\n",
        "\r\n",
        "\r\n",
        "\r\n",
        "if __name__ == '__main__':\r\n",
        "    n = int(input().strip())\r\n",
        "    \r\n",
        "    if 1<=n<=100:\r\n",
        "        if n%2!=0 | (n%2==0 and 6<=n<=20):\r\n",
        "            print('Weird')\r\n",
        "        else:\r\n",
        "            print('Not Weird')"
      ],
      "execution_count": null,
      "outputs": []
    },
    {
      "cell_type": "markdown",
      "metadata": {
        "id": "yIuCofOnxIuf"
      },
      "source": [
        "### The Minion Game"
      ]
    },
    {
      "cell_type": "code",
      "metadata": {
        "id": "G1HwRlNPxn7o"
      },
      "source": [
        "def minion_game(string):\r\n",
        "    kevin = 0\r\n",
        "    stuart = 0\r\n",
        "    \r\n",
        "    string = string.upper()\r\n",
        "    vowels = ['A','E','I','O','U']\r\n",
        "    \r\n",
        "    for i in range(0,len(string)):\r\n",
        "        if string[i] in vowels:\r\n",
        "            kevin+=(len(string)-i)\r\n",
        "        else:\r\n",
        "            stuart+=(len(string)-i)\r\n",
        "    \r\n",
        "    if kevin > stuart:\r\n",
        "        print('Kevin {}'.format(kevin))\r\n",
        "    elif stuart > kevin:\r\n",
        "        print('Stuart {}'.format(stuart))\r\n",
        "    else:\r\n",
        "        print('Draw')\r\n",
        "                   \r\n",
        "if __name__ == '__main__':\r\n",
        "    s = input()\r\n",
        "    minion_game(s)"
      ],
      "execution_count": null,
      "outputs": []
    }
  ]
}